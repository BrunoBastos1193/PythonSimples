{
 "cells": [
  {
   "cell_type": "markdown",
   "id": "0aa21b39",
   "metadata": {},
   "source": [
    "Aprendendo python"
   ]
  },
  {
   "cell_type": "code",
   "execution_count": 1,
   "id": "05afc2dd",
   "metadata": {},
   "outputs": [
    {
     "name": "stdout",
     "output_type": "stream",
     "text": [
      "Bruno\n"
     ]
    }
   ],
   "source": [
    "print('Bruno')"
   ]
  },
  {
   "cell_type": "code",
   "execution_count": 2,
   "id": "138421af",
   "metadata": {},
   "outputs": [
    {
     "data": {
      "text/plain": [
       "9"
      ]
     },
     "execution_count": 2,
     "metadata": {},
     "output_type": "execute_result"
    }
   ],
   "source": [
    "5 + 4"
   ]
  }
 ],
 "metadata": {
  "kernelspec": {
   "display_name": "Python 3",
   "language": "python",
   "name": "python3"
  },
  "language_info": {
   "codemirror_mode": {
    "name": "ipython",
    "version": 3
   },
   "file_extension": ".py",
   "mimetype": "text/x-python",
   "name": "python",
   "nbconvert_exporter": "python",
   "pygments_lexer": "ipython3",
   "version": "3.13.3"
  }
 },
 "nbformat": 4,
 "nbformat_minor": 5
}
